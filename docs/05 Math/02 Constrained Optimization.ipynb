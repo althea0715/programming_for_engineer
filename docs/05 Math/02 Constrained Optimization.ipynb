{
 "cells": [
  {
   "cell_type": "markdown",
   "metadata": {},
   "source": [
    "# Constrained Optimization\n",
    "\n",
    "Linear Programming (선형 계획법)의 subset 형태입니다. 다만 Constrained Optimization 가 필요하게 되어 작성하게 되었습니다.\n",
    "\n",
    "가상의 데이터 x, y가 있다고 하면 우리가 최적화하고자 하는 값은 계수(coefficient) 입니다. 결과적으로 우리가 모르는 값은 계수이며 이 계수 값에 여러값을 대입하여 최적 값을 찾는 형태가 됩니다.\n",
    "\n",
    "어떤 데이터 x, y 세트가 있다고 생각해봅시다. 이 x, y 세트를 추정하는 어떠한 직선이 있다고 생각했을 때 가장 적절한 선은 다음과 같은 수식을 최소화하는 것이 가장 적절합니다. (최소화 하고자 하는 함수를 보통 목적함수 objective function이라고 합니다.)\n",
    "\n",
    "$$\n",
    "\\min \\sum (y - f(x))^2\n",
    "$$\n",
    "\n",
    "당연하게도 위 공식은 최소제곱법, 회귀분석의 기본이며 다양한 방법으로 구할 수 있습니다. `scipy.optimize`에서 제공하는 `minimize`을 사용하여 구하면 다음과 같이 구할 수 있습니다."
   ]
  },
  {
   "cell_type": "code",
   "execution_count": 10,
   "metadata": {},
   "outputs": [
    {
     "data": {
      "image/png": "[encoded data removed]",
      "text/plain": [
       "<Figure size 432x288 with 1 Axes>"
      ]
     },
     "metadata": {
      "needs_background": "light"
     },
     "output_type": "display_data"
    }
   ],
   "source": [
    "import polars as pl\n",
    "import numpy as np\n",
    "import matplotlib.pyplot as plt\n",
    "from scipy.optimize import minimize\n",
    "\n",
    "plt.rcParams[\"font.family\"] = \"gulim\"\n",
    "\n",
    "df = pl.read_csv(\"../data/influence2.csv\")\n",
    "x = df[\"x\"].to_numpy()\n",
    "y = df[\"y\"].to_numpy()\n",
    "\n",
    "plt.figure()\n",
    "plt.scatter(x, y)\n",
    "plt.title(\"X, Y 구성\")\n",
    "plt.xlabel(\"X\")\n",
    "plt.ylabel(\"Y\")\n",
    "plt.show()"
   ]
  },
  {
   "cell_type": "markdown",
   "metadata": {},
   "source": [
    "위 그래프를 확인해보면 추정해야할 식은 1차식이 적절해보입니다. 그러므로 x feature는 다음과 같은 형태를 취해야합니다.\n",
    "\n",
    "$$\n",
    "f(x) = w_0 + w_1x\n",
    "$$\n",
    "\n",
    "x는 이미 알고 있는 값이며 $w_0$, $w_1$을 추정하는 형태입니다. 목적 함수가 최소화하고자 하는 함수이니 상단에 언급한 공식을 사용하겠습니다."
   ]
  },
  {
   "cell_type": "code",
   "execution_count": 25,
   "metadata": {},
   "outputs": [
    {
     "data": {
      "text/plain": [
       "      fun: 421.6321625856126\n",
       " hess_inv: array([[ 0.09094438, -0.01413057],\n",
       "       [-0.01413057,  0.0029742 ]])\n",
       "      jac: array([0.00000000e+00, 7.62939453e-06])\n",
       "  message: 'Optimization terminated successfully.'\n",
       "     nfev: 24\n",
       "      nit: 6\n",
       "     njev: 8\n",
       "   status: 0\n",
       "  success: True\n",
       "        x: array([2.95763828, 5.03734456])"
      ]
     },
     "execution_count": 25,
     "metadata": {},
     "output_type": "execute_result"
    }
   ],
   "source": [
    "from functools import partial\n",
    "\n",
    "## X에 상수항을 포함하기 위해 1을 추가합니다.\n",
    "x_feature = np.insert(x.reshape(-1, 1), 0, 1, 1)\n",
    "\n",
    "# Objective funciton을 만듭니다. 다만 x, y는 이미 주어진 값이니 partial로 미리 넣어놓겠습니다.\n",
    "def objective_function(x, y, w):\n",
    "    return np.sum((y - x @ w)**2)\n",
    "\n",
    "objective = partial(objective_function, x_feature, y)\n",
    "\n",
    "# 초기값을 설정해야하는데, 임의로 1, 1 을 사용하였습니다.\n",
    "minimize(objective, [1, 1])   "
   ]
  },
  {
   "cell_type": "markdown",
   "metadata": {},
   "source": [
    "$w_0 = 2.96$, $w_1=5.04$라는 값을 얻었습니다. 이를 수식으로 그래프로 그리면 다음과 같습니다. 단, 회귀분석도 동시에 진행해보겠습니다."
   ]
  },
  {
   "cell_type": "code",
   "execution_count": 36,
   "metadata": {},
   "outputs": [
    {
     "data": {
      "image/png": "[encoded data removed]",
      "text/plain": [
       "<Figure size 432x288 with 1 Axes>"
      ]
     },
     "metadata": {
      "needs_background": "light"
     },
     "output_type": "display_data"
    }
   ],
   "source": [
    "from sklearn.linear_model import LinearRegression\n",
    "\n",
    "regr = LinearRegression(fit_intercept=False)\n",
    "regr.fit(x_feature, y)\n",
    "\n",
    "regr.coef_\n",
    "\n",
    "plt.figure()\n",
    "plt.scatter(x, y, label=\"원본\")\n",
    "plt.plot(x, x_feature @ regr.coef_, c=\"r\", label=\"회귀분석\")\n",
    "plt.plot(x, x_feature @ np.array([2.96, 5.04]), c=\"g\", label=\"선형계획법\")\n",
    "plt.title(\"X, Y 구성\")\n",
    "plt.xlabel(\"X\")\n",
    "plt.ylabel(\"Y\")\n",
    "plt.legend()\n",
    "plt.show()"
   ]
  },
  {
   "cell_type": "markdown",
   "metadata": {},
   "source": [
    "회귀분석과 선형계획법의 연산 결과가 같다는 것을 알 수 있습니다. \n",
    "\n",
    "선형 모델링은 엔지니어링 관점에서 많이 사용하지만, 어떠한 보정을 한다고 할 때 모델링한 결과값을 100% 적용할 수 있는 것은 아닙니다. 예를 들어 $w_1$의 값이 -4 ~ 4 사이에 있어야한다고 해봅시다. 그렇다면 흔한 선형 회귀로는 이러한 계산이 불가능합니다. 이를 위해 선형계획법을 사용하면 쉽게 해결 할 수 있습니다.\n",
    "\n",
    "이제 선형계획법에서 Constrained를 적용해보겠습니다. 목적함수에 바로 bounds를 기입하면 됩니다."
   ]
  },
  {
   "cell_type": "code",
   "execution_count": 62,
   "metadata": {},
   "outputs": [
    {
     "data": {
      "text/plain": [
       "     fun: 602.5351129875819\n",
       "     jac: array([-7.62939453e-06, -3.48780869e+02])\n",
       " message: 'Optimization terminated successfully'\n",
       "    nfev: 17\n",
       "     nit: 5\n",
       "    njev: 5\n",
       "  status: 0\n",
       " success: True\n",
       "       x: array([7.88611887, 4.        ])"
      ]
     },
     "execution_count": 62,
     "metadata": {},
     "output_type": "execute_result"
    }
   ],
   "source": [
    "## X에 상수항을 포함하기 위해 1을 추가합니다.\n",
    "x_feature = np.insert(x.reshape(-1, 1), 0, 1, 1)\n",
    "\n",
    "# Objective funciton을 만듭니다. 다만 x, y는 이미 주어진 값이니 partial로 미리 넣어놓겠습니다.\n",
    "def objective_function(x, y, w):\n",
    "    return np.sum((y - x @ w)**2)\n",
    "\n",
    "objective = partial(objective_function, x_feature, y)\n",
    "\n",
    "# 제약사항 설정\n",
    "bound_w0 = [-np.inf, +np.inf]   # w0는 제약사항이 없습니다.\n",
    "bound_w1 = [-4, +4]\n",
    "\n",
    "# 초기값을 설정해야하는데, 임의로 1, 1 을 사용하였습니다.\n",
    "# bounds가 있을 때 사용하는 알고리즘으로 TNC, SLSQP가 있고 여기선 SLSQP를 사용하였습니다. \n",
    "minimize(objective, [1, 1], bounds=[bound_w0, bound_w1], method=\"SLSQP\")"
   ]
  },
  {
   "cell_type": "markdown",
   "metadata": {},
   "source": [
    "|    method    |  jac  | hess, hessp | bounds | constraints |\n",
    "| :----------: | :---: | :---------: | :----: | :---------: |\n",
    "| Nelder-Mead  |   X   |      X      |   X    |      X      |\n",
    "|    Powell    |   X   |      X      |        |             |\n",
    "|      CG      |   O   |      X      |        |             |\n",
    "|     BFGS     |   O   |      X      |        |             |\n",
    "|  Newton-CG   |   O   |      O      |        |             |\n",
    "|   L-BFGS-B   |   O   |      X      |   O    |             |\n",
    "|     TNC      |   O   |      X      |   O    |             |\n",
    "|    COBYLA    |   X   |      X      |   X    |      O      |\n",
    "|    SLSQP     |   O   |      X      |   O    |      O      |\n",
    "|    dogleg    |   O   |      O      |        |             |\n",
    "|  trust-ncg   |   O   |      O      |        |             |\n",
    "| trust-exact  |   O   |      O      |        |             |\n",
    "| trust-krylov |   O   |      O      |        |             |\n",
    "\n",
    "참조 : [공학자를 위한 Python] https://wikidocs.net/15656"
   ]
  },
  {
   "cell_type": "markdown",
   "metadata": {},
   "source": [
    "엄밀하게 이야기하면 bounds는 수식이 아니기 때문에 constrained라고 할 수 없겠으나, 간단하게 제약사항이라고 받아들였으면 합니다. 위에서 구한 $w_0 = 7.89$, $w_1=4$를 토대로 다시 한번 그래프를 보겠습니다."
   ]
  },
  {
   "cell_type": "code",
   "execution_count": 64,
   "metadata": {},
   "outputs": [
    {
     "data": {
      "image/png": "[encoded data removed]",
      "text/plain": [
       "<Figure size 432x288 with 1 Axes>"
      ]
     },
     "metadata": {
      "needs_background": "light"
     },
     "output_type": "display_data"
    }
   ],
   "source": [
    "plt.figure()\n",
    "plt.scatter(x, y, label=\"원본\")\n",
    "plt.plot(x, x_feature @ np.array([2.96, 5.04]), c=\"g\", label=\"선형계획법\")\n",
    "plt.plot(x, x_feature @ np.array([7.89, 4.0]), c=\"m\", label=\"Constrained\")\n",
    "plt.title(\"X, Y 구성\")\n",
    "plt.xlabel(\"X\")\n",
    "plt.ylabel(\"Y\")\n",
    "plt.legend()\n",
    "plt.show()"
   ]
  }
 ],
 "metadata": {
  "kernelspec": {
   "display_name": "Python 3.10.6 64-bit",
   "language": "python",
   "name": "python3"
  },
  "language_info": {
   "codemirror_mode": {
    "name": "ipython",
    "version": 3
   },
   "file_extension": ".py",
   "mimetype": "text/x-python",
   "name": "python",
   "nbconvert_exporter": "python",
   "pygments_lexer": "ipython3",
   "version": "3.10.6"
  },
  "orig_nbformat": 4,
  "vscode": {
   "interpreter": {
    "hash": "369f2c481f4da34e4445cda3fffd2e751bd1c4d706f27375911949ba6bb62e1c"
   }
  }
 },
 "nbformat": 4,
 "nbformat_minor": 2
}
